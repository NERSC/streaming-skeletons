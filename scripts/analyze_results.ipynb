{
 "cells": [
  {
   "cell_type": "markdown",
   "metadata": {},
   "source": [
    "# Analyze results"
   ]
  },
  {
   "cell_type": "markdown",
   "metadata": {},
   "source": [
    "## Imports"
   ]
  },
  {
   "cell_type": "code",
   "execution_count": null,
   "metadata": {},
   "outputs": [],
   "source": [
    "import pandas as pd\n",
    "import matplotlib.pyplot as plt\n",
    "import seaborn as sns\n",
    "import json\n",
    "\n",
    "def load_results(filename='test_results.json'):\n",
    "    with open(filename, 'r') as f:\n",
    "        return json.load(f)\n",
    "\n",
    "path: str = '/global/homes/s/swelborn/gits/zmq-test-als832/test_results.json'\n",
    "results = load_results(path)\n"
   ]
  },
  {
   "cell_type": "markdown",
   "metadata": {},
   "source": [
    "## Preprocess"
   ]
  },
  {
   "cell_type": "code",
   "execution_count": null,
   "metadata": {},
   "outputs": [],
   "source": [
    "def preprocess_data(data):\n",
    "    for item in data:\n",
    "        for key, value in item['config'].items():\n",
    "            item[key] = value\n",
    "        del item['config']  # Remove the nested dictionary\n",
    "    df = pd.DataFrame(data)\n",
    "    df['pct_received'] = df['messages_received'] / df['count']\n",
    "    return df\n",
    "\n",
    "df = preprocess_data(results)"
   ]
  },
  {
   "cell_type": "markdown",
   "metadata": {},
   "source": [
    "## Throughput"
   ]
  },
  {
   "cell_type": "code",
   "execution_count": null,
   "metadata": {},
   "outputs": [],
   "source": [
    "cleandf = df.copy()\n",
    "cleandf = cleandf[cleandf['pct_received'] >= 1.0]\n",
    "plt.figure(figsize=(10, 6))\n",
    "sns.scatterplot(data=cleandf, x='size', y='throughput', hue='pub', style='zero_copy')\n",
    "plt.xscale('log')\n",
    "plt.xlabel('Message Size (Bytes)')\n",
    "plt.ylabel('Throughput (Mbps)')\n",
    "plt.title('Throughput vs. Message Size')\n",
    "plt.show()"
   ]
  },
  {
   "cell_type": "code",
   "execution_count": null,
   "metadata": {},
   "outputs": [],
   "source": [
    "cleandf = df.copy()\n",
    "cleandf = cleandf[cleandf['pct_received'] >= 1.0]\n",
    "cleandf = cleandf[cleandf['count'] == 10000]\n",
    "plt.figure(figsize=(10, 6))\n",
    "sns.scatterplot(data=cleandf, x='size', y='throughput', hue='pub', style='zero_copy')\n",
    "plt.xscale('log')\n",
    "plt.xlabel('Message Size (Bytes)')\n",
    "plt.ylabel('Throughput (Mbps)')\n",
    "plt.title('Throughput vs. Message Size')\n",
    "plt.show()"
   ]
  },
  {
   "cell_type": "code",
   "execution_count": null,
   "metadata": {},
   "outputs": [],
   "source": [
    "plt.figure(figsize=(10, 6))\n",
    "sns.scatterplot(data=cleandf, x='pub', y='throughput', hue='size', style='zero_copy')\n",
    "plt.xlabel('Pub/sub=0, push/pull=1')\n",
    "plt.ylabel('Throughput (Mbps)')\n",
    "plt.title('Throughput vs. PUB/SUB')\n",
    "plt.show()"
   ]
  },
  {
   "cell_type": "code",
   "execution_count": null,
   "metadata": {},
   "outputs": [],
   "source": [
    "plt.figure(figsize=(10, 6))\n",
    "logrcvhwmdf = cleandf.copy()\n",
    "sns.scatterplot(data=logrcvhwmdf, x='sndhwm', y='throughput', hue='rcvhwm', style='zero_copy', palette=\"viridis\")\n",
    "plt.xlabel('sndhwm')\n",
    "plt.ylabel('Throughput (Mbps)')\n",
    "plt.title('Throughput vs. SNDHWM')\n",
    "plt.show()"
   ]
  },
  {
   "cell_type": "markdown",
   "metadata": {},
   "source": [
    "## Percentage Received"
   ]
  },
  {
   "cell_type": "code",
   "execution_count": null,
   "metadata": {},
   "outputs": [],
   "source": [
    "plt.figure(figsize=(10, 6))\n",
    "sns.scatterplot(data=df, x='sndhwm', y='pct_received', hue='rcvhwm', style='zero_copy')\n",
    "plt.xlabel('Sndhwm')\n",
    "plt.ylabel('Received (%)')\n",
    "plt.title('Pct received vs. snhwm')\n",
    "plt.show()"
   ]
  },
  {
   "cell_type": "code",
   "execution_count": null,
   "metadata": {},
   "outputs": [],
   "source": [
    "plt.figure(figsize=(10, 6))\n",
    "sns.scatterplot(data=df, x='sndtimeo', y='pct_received', hue='rcvhwm', style='zero_copy')\n",
    "plt.xlabel('sndtimeo')\n",
    "plt.ylabel('Received (%)')\n",
    "plt.title('Pct received vs. sndtimeo')\n",
    "plt.show()"
   ]
  },
  {
   "cell_type": "code",
   "execution_count": null,
   "metadata": {},
   "outputs": [],
   "source": []
  }
 ],
 "metadata": {
  "kernelspec": {
   "display_name": "zmq-test-als832",
   "language": "python",
   "name": "python3"
  },
  "language_info": {
   "codemirror_mode": {
    "name": "ipython",
    "version": 3
   },
   "file_extension": ".py",
   "mimetype": "text/x-python",
   "name": "python",
   "nbconvert_exporter": "python",
   "pygments_lexer": "ipython3",
   "version": "3.1.undefined"
  }
 },
 "nbformat": 4,
 "nbformat_minor": 2
}
